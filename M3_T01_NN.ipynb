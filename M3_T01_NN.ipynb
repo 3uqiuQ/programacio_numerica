{
 "cells": [
  {
   "cell_type": "markdown",
   "id": "47f46f1f",
   "metadata": {},
   "source": [
    "### **Exercici 1:**  \n",
    "\n",
    "Crea una funció que donat un Array d’una dimensió, et faci un resum estadístic bàsic de les dades.  \n",
    "Si detecta que l’array té més d’una dimensió, ha de mostrar un missatge d’error."
   ]
  },
  {
   "cell_type": "code",
   "execution_count": 1,
   "id": "5111f09f",
   "metadata": {},
   "outputs": [],
   "source": [
    "import numpy as np\n",
    "\n",
    "Array_1 = np.array([1,2,3,4,5,6,2,4,3,5])\n",
    "Array_2 = np.array([[2,3,4,3,6,7], [3,5,6,2,7,8]])\n",
    "\n",
    "def resum_array(array):\n",
    "    if array.ndim > 1:\n",
    "        print('Error !. Existeix más d\\'una dimensió.')\n",
    "    else:\n",
    "        print(\"Resumen estadístico:\\n\")\n",
    "        print('L\\'array te '+ str(array.size) + ' elements.\\nEl valor maxim es de ' + str(np.max(array)) + ' i el minim de ' + str(np.min(array)) + '.\\n'\n",
    "    + 'La mitja de l\\'array es ' + str(np.mean(array)) + ' i la mitjana ' + str(np.median(array)) + '.\\nLa dessviació standard es ' + str(np.std(array)) + '.\\n')\n"
   ]
  },
  {
   "cell_type": "code",
   "execution_count": 2,
   "id": "668c3bec",
   "metadata": {},
   "outputs": [
    {
     "name": "stdout",
     "output_type": "stream",
     "text": [
      "Resumen estadístico:\n",
      "\n",
      "L'array te 10 elements.\n",
      "El valor maxim es de 6 i el minim de 1.\n",
      "La mitja de l'array es 3.5 i la mitjana 3.5.\n",
      "La dessviació standard es 1.5.\n",
      "\n"
     ]
    }
   ],
   "source": [
    "resum_array(Array_1)"
   ]
  },
  {
   "cell_type": "code",
   "execution_count": 3,
   "id": "0d5c1f7d",
   "metadata": {},
   "outputs": [
    {
     "name": "stdout",
     "output_type": "stream",
     "text": [
      "Error !. Existeix más d'una dimensió.\n"
     ]
    }
   ],
   "source": [
    "resum_array(Array_2)"
   ]
  },
  {
   "cell_type": "markdown",
   "id": "46db8cb8",
   "metadata": {},
   "source": [
    "### **Exercici 2**  \n",
    "Crea una funció que et generi un quadrat NxN de nombres aleatoris entre el 0 i el 100.\n"
   ]
  },
  {
   "cell_type": "code",
   "execution_count": 4,
   "id": "8c1bcddf",
   "metadata": {},
   "outputs": [
    {
     "name": "stdout",
     "output_type": "stream",
     "text": [
      "Introdueix el nombre de dades per banda del quadrat: 5\n"
     ]
    },
    {
     "data": {
      "text/plain": [
       "array([[61, 22, 68,  5, 24],\n",
       "       [82, 46, 76, 87, 99],\n",
       "       [ 0, 18, 84, 98, 42],\n",
       "       [70,  1, 38, 46, 32],\n",
       "       [76, 30, 44, 62, 93]])"
      ]
     },
     "execution_count": 4,
     "metadata": {},
     "output_type": "execute_result"
    }
   ],
   "source": [
    "import numpy as np\n",
    "\n",
    "def quadrat (n):\n",
    "    array = np.random.randint(0,100,(n,n))\n",
    "    return array\n",
    "\n",
    "n = int(input('Introdueix el nombre de dades per banda del quadrat: '))\n",
    "quadrat(n)"
   ]
  },
  {
   "cell_type": "markdown",
   "id": "47968d60",
   "metadata": {},
   "source": [
    "### **Exercici 3**  \n",
    "\n",
    "Crea una funció que donada una taula de dues dimensions (NxM), et calculi els totals per fila i els totals per columna."
   ]
  },
  {
   "cell_type": "code",
   "execution_count": 5,
   "id": "d384a6ca",
   "metadata": {},
   "outputs": [
    {
     "name": "stdout",
     "output_type": "stream",
     "text": [
      "Introdueix un num.:\n",
      "4\n",
      "Introdueix el segon num.:\n",
      "6\n",
      "La taula te 4 filas y 6 columnas.\n",
      "\n",
      "[[85 90  1 52 44 26]\n",
      " [61 29 82 45 51 48]\n",
      " [41 49 44 94 60 95]\n",
      " [51 96 23 90  9 12]]\n",
      "\n",
      "\n",
      "Fila 0 = 298\n",
      "Fila 1 = 316\n",
      "Fila 2 = 383\n",
      "Fila 3 = 281\n",
      "Columna 3 = 238\n",
      "Columna 3 = 264\n",
      "Columna 3 = 150\n",
      "Columna 3 = 281\n",
      "Columna 3 = 164\n",
      "Columna 3 = 181\n"
     ]
    }
   ],
   "source": [
    "import numpy as np\n",
    "\n",
    "def fun_tabla(n2, n3):\n",
    "    array = np.random.randint(0,100,(n2,n3))\n",
    "    print('La taula te ' + str(array.shape[0]) + ' filas y ' + str(array.shape[1]) + ' columnas.\\n')\n",
    "    return array\n",
    "  \n",
    "n2 = int(input('Introdueix un num.:\\n'))\n",
    "n3 = int(input('Introdueix el segon num.:\\n'))\n",
    "\n",
    "tabla = fun_tabla(n2, n3)\n",
    "print(tabla)\n",
    "print('\\n')\n",
    "\n",
    "i = 0\n",
    "for i in range(n2):\n",
    "    print('Fila ' + str(i) + ' = ' + str(np.sum(tabla[i])))\n",
    "for j in range(n3):\n",
    "    print('Columna ' + str(i) + ' = ' + str(np.sum(tabla[:,j])))"
   ]
  },
  {
   "cell_type": "markdown",
   "id": "7b7b5fae",
   "metadata": {},
   "source": [
    "### **Exercici 4**  \n",
    "\n",
    "Implementa manualment una funció que calculi el coeficient de correlació.  \n",
    "Informa-te'n sobre els seus usos i interpretació."
   ]
  },
  {
   "cell_type": "markdown",
   "id": "46c29e89",
   "metadata": {},
   "source": [
    "*El coeficient de correlació de Pearson és un índex que mesura el grau de relació de dues variables quantitatives i contínues.\n",
    "A diferència de la covariància, la correlació de Pearson és independent de l'escala de mesura de les variables.*  \n",
    "*Hi ha una relació directa en tractar-se d'1 (quan una variable augmenta, l'altra també), mentre que hi haurà una relació inversa en tractar-se de -1 (quan una variable augmenta l'altra disminueix).\n",
    "En el cas de 0 (o proper a aquest valor) no hi ha relació lineal, encara que hi pot haver algun altre tipus de relació no lineal.*  \n",
    "*La fórmula de Pearson és el càlcul de la covariància entre les variables, dividida pel producte de les seves desviacions estàndard.*  \n"
   ]
  },
  {
   "cell_type": "code",
   "execution_count": 6,
   "id": "fb5cd373",
   "metadata": {},
   "outputs": [
    {
     "data": {
      "text/html": [
       "<div>\n",
       "<style scoped>\n",
       "    .dataframe tbody tr th:only-of-type {\n",
       "        vertical-align: middle;\n",
       "    }\n",
       "\n",
       "    .dataframe tbody tr th {\n",
       "        vertical-align: top;\n",
       "    }\n",
       "\n",
       "    .dataframe thead th {\n",
       "        text-align: right;\n",
       "    }\n",
       "</style>\n",
       "<table border=\"1\" class=\"dataframe\">\n",
       "  <thead>\n",
       "    <tr style=\"text-align: right;\">\n",
       "      <th></th>\n",
       "      <th>id</th>\n",
       "      <th>edad</th>\n",
       "      <th>abandono</th>\n",
       "      <th>viajes</th>\n",
       "      <th>departamento</th>\n",
       "      <th>distancia_casa</th>\n",
       "      <th>educacion</th>\n",
       "      <th>carrera</th>\n",
       "      <th>satisfaccion_entorno</th>\n",
       "      <th>implicacion</th>\n",
       "      <th>...</th>\n",
       "      <th>satisfaccion_companeros</th>\n",
       "      <th>nivel_acciones</th>\n",
       "      <th>anos_experiencia</th>\n",
       "      <th>num_formaciones_ult_ano</th>\n",
       "      <th>anos_compania</th>\n",
       "      <th>anos_desde_ult_promocion</th>\n",
       "      <th>anos_con_manager_actual</th>\n",
       "      <th>salario_ano</th>\n",
       "      <th>impacto_abandono</th>\n",
       "      <th>scoring_abandono</th>\n",
       "    </tr>\n",
       "  </thead>\n",
       "  <tbody>\n",
       "    <tr>\n",
       "      <th>0</th>\n",
       "      <td>1</td>\n",
       "      <td>41</td>\n",
       "      <td>1</td>\n",
       "      <td>Travel_Rarely</td>\n",
       "      <td>Sales</td>\n",
       "      <td>1</td>\n",
       "      <td>Universitaria</td>\n",
       "      <td>Life Sciences</td>\n",
       "      <td>Media</td>\n",
       "      <td>Alta</td>\n",
       "      <td>...</td>\n",
       "      <td>Baja</td>\n",
       "      <td>0</td>\n",
       "      <td>8</td>\n",
       "      <td>0</td>\n",
       "      <td>6</td>\n",
       "      <td>0</td>\n",
       "      <td>5</td>\n",
       "      <td>71916</td>\n",
       "      <td>14670,864</td>\n",
       "      <td>0,328125</td>\n",
       "    </tr>\n",
       "    <tr>\n",
       "      <th>1</th>\n",
       "      <td>2</td>\n",
       "      <td>49</td>\n",
       "      <td>0</td>\n",
       "      <td>Travel_Frequently</td>\n",
       "      <td>Research &amp; Development</td>\n",
       "      <td>8</td>\n",
       "      <td>Secundaria</td>\n",
       "      <td>Life Sciences</td>\n",
       "      <td>Alta</td>\n",
       "      <td>Media</td>\n",
       "      <td>...</td>\n",
       "      <td>Muy_Alta</td>\n",
       "      <td>1</td>\n",
       "      <td>10</td>\n",
       "      <td>3</td>\n",
       "      <td>10</td>\n",
       "      <td>1</td>\n",
       "      <td>7</td>\n",
       "      <td>61560</td>\n",
       "      <td>12558,24</td>\n",
       "      <td>0,0620155039</td>\n",
       "    </tr>\n",
       "    <tr>\n",
       "      <th>2</th>\n",
       "      <td>4</td>\n",
       "      <td>37</td>\n",
       "      <td>1</td>\n",
       "      <td>Travel_Rarely</td>\n",
       "      <td>Research &amp; Development</td>\n",
       "      <td>2</td>\n",
       "      <td>Secundaria</td>\n",
       "      <td>Other</td>\n",
       "      <td>Muy_Alta</td>\n",
       "      <td>Media</td>\n",
       "      <td>...</td>\n",
       "      <td>Media</td>\n",
       "      <td>0</td>\n",
       "      <td>7</td>\n",
       "      <td>3</td>\n",
       "      <td>0</td>\n",
       "      <td>0</td>\n",
       "      <td>0</td>\n",
       "      <td>25080</td>\n",
       "      <td>4037,88</td>\n",
       "      <td>0,2926829268</td>\n",
       "    </tr>\n",
       "  </tbody>\n",
       "</table>\n",
       "<p>3 rows × 29 columns</p>\n",
       "</div>"
      ],
      "text/plain": [
       "   id  edad  abandono             viajes            departamento  \\\n",
       "0   1    41         1      Travel_Rarely                   Sales   \n",
       "1   2    49         0  Travel_Frequently  Research & Development   \n",
       "2   4    37         1      Travel_Rarely  Research & Development   \n",
       "\n",
       "   distancia_casa      educacion        carrera satisfaccion_entorno  \\\n",
       "0               1  Universitaria  Life Sciences                Media   \n",
       "1               8     Secundaria  Life Sciences                 Alta   \n",
       "2               2     Secundaria          Other             Muy_Alta   \n",
       "\n",
       "  implicacion  ...  satisfaccion_companeros nivel_acciones anos_experiencia  \\\n",
       "0        Alta  ...                     Baja              0                8   \n",
       "1       Media  ...                 Muy_Alta              1               10   \n",
       "2       Media  ...                    Media              0                7   \n",
       "\n",
       "  num_formaciones_ult_ano  anos_compania  anos_desde_ult_promocion  \\\n",
       "0                       0              6                         0   \n",
       "1                       3             10                         1   \n",
       "2                       3              0                         0   \n",
       "\n",
       "  anos_con_manager_actual  salario_ano impacto_abandono scoring_abandono  \n",
       "0                       5        71916        14670,864         0,328125  \n",
       "1                       7        61560         12558,24     0,0620155039  \n",
       "2                       0        25080          4037,88     0,2926829268  \n",
       "\n",
       "[3 rows x 29 columns]"
      ]
     },
     "execution_count": 6,
     "metadata": {},
     "output_type": "execute_result"
    }
   ],
   "source": [
    "import pandas as pd\n",
    "import numpy as np\n",
    "abandono = pd.read_csv('abandono.csv')\n",
    "abandono.head(3)"
   ]
  },
  {
   "cell_type": "code",
   "execution_count": 7,
   "id": "e258a50c",
   "metadata": {},
   "outputs": [
    {
     "data": {
      "text/plain": [
       "0.31131"
      ]
     },
     "execution_count": 7,
     "metadata": {},
     "output_type": "execute_result"
    }
   ],
   "source": [
    "edad = abandono['edad']\n",
    "tiempo_empresa = abandono['anos_compania']\n",
    "\n",
    "def pearson (una, otra):\n",
    "    return np.corrcoef(una, otra)\n",
    "\n",
    "round(pearson(edad, tiempo_empresa)[1,0], 5)"
   ]
  },
  {
   "cell_type": "code",
   "execution_count": 8,
   "id": "18252162",
   "metadata": {},
   "outputs": [
    {
     "name": "stdout",
     "output_type": "stream",
     "text": [
      "0.31131\n"
     ]
    }
   ],
   "source": [
    "nn = len(edad)\n",
    "media_edad = np.mean(edad)\n",
    "media_tiempo_empresa = np.mean(tiempo_empresa)\n",
    "desv_edad = np.std(edad)\n",
    "desv_tiempo_empresa = np.std(tiempo_empresa)\n",
    "\n",
    "r = 0\n",
    "for i in range(nn):\n",
    "    r += ((1/nn) * (edad[i] - media_edad) * (tiempo_empresa[i] - media_tiempo_empresa)) / (desv_edad * desv_tiempo_empresa)\n",
    "\n",
    "r_redond = round(r,5)\n",
    "print(r_redond)"
   ]
  },
  {
   "cell_type": "markdown",
   "id": "71274ee1",
   "metadata": {},
   "source": [
    "*El coeficiente es positivo, luego a mayor edad, mayor tiempo en la empresa, pero al ser relativamente bajo, \n",
    "(El coeficiente se mueve entre 0 y +/- 1), entiendo que la correlación entre las dos variables no es muy alta.  \n",
    "No es muy fiable*"
   ]
  },
  {
   "cell_type": "code",
   "execution_count": null,
   "id": "b7fcc8cc",
   "metadata": {},
   "outputs": [],
   "source": []
  }
 ],
 "metadata": {
  "kernelspec": {
   "display_name": "Python 3 (ipykernel)",
   "language": "python",
   "name": "python3"
  },
  "language_info": {
   "codemirror_mode": {
    "name": "ipython",
    "version": 3
   },
   "file_extension": ".py",
   "mimetype": "text/x-python",
   "name": "python",
   "nbconvert_exporter": "python",
   "pygments_lexer": "ipython3",
   "version": "3.9.13"
  }
 },
 "nbformat": 4,
 "nbformat_minor": 5
}

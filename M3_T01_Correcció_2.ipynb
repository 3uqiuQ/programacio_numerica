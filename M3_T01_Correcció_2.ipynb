{
 "cells": [
  {
   "cell_type": "markdown",
   "id": "6416a4bc",
   "metadata": {},
   "source": [
    "### **Exercici 2**  \n",
    "Crea una funció que et generi un quadrat NxN de nombres aleatoris entre el 0 i el 100.\n"
   ]
  },
  {
   "cell_type": "code",
   "execution_count": 1,
   "id": "7a089d04",
   "metadata": {},
   "outputs": [
    {
     "name": "stdout",
     "output_type": "stream",
     "text": [
      "Introdueix el nombre de dades per banda del quadrat: 5\n"
     ]
    },
    {
     "data": {
      "text/plain": [
       "array([[ 6, 78, 10, 57, 66],\n",
       "       [65, 86, 29, 32, 11],\n",
       "       [59, 70, 92, 97, 14],\n",
       "       [70,  7, 82, 65, 20],\n",
       "       [94, 23, 48, 23, 92]])"
      ]
     },
     "execution_count": 1,
     "metadata": {},
     "output_type": "execute_result"
    }
   ],
   "source": [
    "import numpy as np\n",
    "\n",
    "def quadrat (n):\n",
    "    array = np.random.randint(0,101,(n,n))\n",
    "    return array\n",
    "\n",
    "n = int(input('Introdueix el nombre de dades per banda del quadrat: '))\n",
    "quadrat(n)"
   ]
  },
  {
   "cell_type": "markdown",
   "id": "bfe1d79b",
   "metadata": {},
   "source": [
    "### **Exercici 3**  \n",
    "\n",
    "Crea una funció que donada una taula de dues dimensions (NxM), et calculi els totals per fila i els totals per columna."
   ]
  },
  {
   "cell_type": "code",
   "execution_count": 2,
   "id": "728a1815",
   "metadata": {},
   "outputs": [
    {
     "name": "stdout",
     "output_type": "stream",
     "text": [
      "Introdueix un num.:\n",
      "5\n",
      "Introdueix el segon num.:\n",
      "3\n",
      "La taula te 5 filas y 3 columnas.\n",
      "\n",
      "Fila 0 = 113\n",
      "Fila 1 = 209\n",
      "Fila 2 = 250\n",
      "Fila 3 = 126\n",
      "Fila 4 = 88\n",
      "Columna 4 = 247\n",
      "Columna 4 = 174\n",
      "Columna 4 = 365\n",
      "\n",
      "\n",
      "[[ 8 14 91]\n",
      " [97 21 91]\n",
      " [70 90 90]\n",
      " [41 29 56]\n",
      " [31 20 37]]\n"
     ]
    }
   ],
   "source": [
    "import numpy as np\n",
    "\n",
    "def fun_tabla(n2, n3):\n",
    "    array = np.random.randint(0,100,(n2,n3))\n",
    "    print('La taula te ' + str(array.shape[0]) + ' filas y ' + str(array.shape[1]) + ' columnas.\\n')\n",
    "    i = 0\n",
    "    for i in range(n2):\n",
    "        print('Fila ' + str(i) + ' = ' + str(np.sum(array[i])))\n",
    "    for j in range(n3):\n",
    "        print('Columna ' + str(i) + ' = ' + str(np.sum(array[:,j])))\n",
    "    return array\n",
    "\n",
    "n2 = int(input('Introdueix un num.:\\n'))\n",
    "n3 = int(input('Introdueix el segon num.:\\n'))\n",
    "\n",
    "tabla = fun_tabla(n2, n3)\n",
    "print('\\n')\n",
    "print(tabla)\n"
   ]
  },
  {
   "cell_type": "markdown",
   "id": "45ab34f3",
   "metadata": {},
   "source": [
    "### **Exercici 4**  \n",
    "\n",
    "Implementa manualment una funció que calculi el coeficient de correlació.  \n",
    "Informa-te'n sobre els seus usos i interpretació."
   ]
  },
  {
   "cell_type": "markdown",
   "id": "0fcaa090",
   "metadata": {},
   "source": [
    "*El coeficient de correlació de Pearson és un índex que mesura el grau de relació de dues variables quantitatives i contínues.\n",
    "A diferència de la covariància, la correlació de Pearson és independent de l'escala de mesura de les variables.*  \n",
    "*Hi ha una relació directa en tractar-se d'1 (quan una variable augmenta, l'altra també), mentre que hi haurà una relació inversa en tractar-se de -1 (quan una variable augmenta l'altra disminueix).\n",
    "En el cas de 0 (o proper a aquest valor) no hi ha relació lineal, encara que hi pot haver algun altre tipus de relació no lineal.*  \n",
    "*La fórmula de Pearson és el càlcul de la covariància entre les variables, dividida pel producte de les seves desviacions estàndard.*  \n"
   ]
  },
  {
   "cell_type": "code",
   "execution_count": 6,
   "id": "d2e7a444",
   "metadata": {},
   "outputs": [
    {
     "data": {
      "text/html": [
       "<div>\n",
       "<style scoped>\n",
       "    .dataframe tbody tr th:only-of-type {\n",
       "        vertical-align: middle;\n",
       "    }\n",
       "\n",
       "    .dataframe tbody tr th {\n",
       "        vertical-align: top;\n",
       "    }\n",
       "\n",
       "    .dataframe thead th {\n",
       "        text-align: right;\n",
       "    }\n",
       "</style>\n",
       "<table border=\"1\" class=\"dataframe\">\n",
       "  <thead>\n",
       "    <tr style=\"text-align: right;\">\n",
       "      <th></th>\n",
       "      <th>id</th>\n",
       "      <th>edad</th>\n",
       "      <th>abandono</th>\n",
       "      <th>viajes</th>\n",
       "      <th>departamento</th>\n",
       "      <th>distancia_casa</th>\n",
       "      <th>educacion</th>\n",
       "      <th>carrera</th>\n",
       "      <th>satisfaccion_entorno</th>\n",
       "      <th>implicacion</th>\n",
       "      <th>...</th>\n",
       "      <th>satisfaccion_companeros</th>\n",
       "      <th>nivel_acciones</th>\n",
       "      <th>anos_experiencia</th>\n",
       "      <th>num_formaciones_ult_ano</th>\n",
       "      <th>anos_compania</th>\n",
       "      <th>anos_desde_ult_promocion</th>\n",
       "      <th>anos_con_manager_actual</th>\n",
       "      <th>salario_ano</th>\n",
       "      <th>impacto_abandono</th>\n",
       "      <th>scoring_abandono</th>\n",
       "    </tr>\n",
       "  </thead>\n",
       "  <tbody>\n",
       "    <tr>\n",
       "      <th>0</th>\n",
       "      <td>1</td>\n",
       "      <td>41</td>\n",
       "      <td>1</td>\n",
       "      <td>Travel_Rarely</td>\n",
       "      <td>Sales</td>\n",
       "      <td>1</td>\n",
       "      <td>Universitaria</td>\n",
       "      <td>Life Sciences</td>\n",
       "      <td>Media</td>\n",
       "      <td>Alta</td>\n",
       "      <td>...</td>\n",
       "      <td>Baja</td>\n",
       "      <td>0</td>\n",
       "      <td>8</td>\n",
       "      <td>0</td>\n",
       "      <td>6</td>\n",
       "      <td>0</td>\n",
       "      <td>5</td>\n",
       "      <td>71916</td>\n",
       "      <td>14670,864</td>\n",
       "      <td>0,328125</td>\n",
       "    </tr>\n",
       "    <tr>\n",
       "      <th>1</th>\n",
       "      <td>2</td>\n",
       "      <td>49</td>\n",
       "      <td>0</td>\n",
       "      <td>Travel_Frequently</td>\n",
       "      <td>Research &amp; Development</td>\n",
       "      <td>8</td>\n",
       "      <td>Secundaria</td>\n",
       "      <td>Life Sciences</td>\n",
       "      <td>Alta</td>\n",
       "      <td>Media</td>\n",
       "      <td>...</td>\n",
       "      <td>Muy_Alta</td>\n",
       "      <td>1</td>\n",
       "      <td>10</td>\n",
       "      <td>3</td>\n",
       "      <td>10</td>\n",
       "      <td>1</td>\n",
       "      <td>7</td>\n",
       "      <td>61560</td>\n",
       "      <td>12558,24</td>\n",
       "      <td>0,0620155039</td>\n",
       "    </tr>\n",
       "    <tr>\n",
       "      <th>2</th>\n",
       "      <td>4</td>\n",
       "      <td>37</td>\n",
       "      <td>1</td>\n",
       "      <td>Travel_Rarely</td>\n",
       "      <td>Research &amp; Development</td>\n",
       "      <td>2</td>\n",
       "      <td>Secundaria</td>\n",
       "      <td>Other</td>\n",
       "      <td>Muy_Alta</td>\n",
       "      <td>Media</td>\n",
       "      <td>...</td>\n",
       "      <td>Media</td>\n",
       "      <td>0</td>\n",
       "      <td>7</td>\n",
       "      <td>3</td>\n",
       "      <td>0</td>\n",
       "      <td>0</td>\n",
       "      <td>0</td>\n",
       "      <td>25080</td>\n",
       "      <td>4037,88</td>\n",
       "      <td>0,2926829268</td>\n",
       "    </tr>\n",
       "  </tbody>\n",
       "</table>\n",
       "<p>3 rows × 29 columns</p>\n",
       "</div>"
      ],
      "text/plain": [
       "   id  edad  abandono             viajes            departamento  \\\n",
       "0   1    41         1      Travel_Rarely                   Sales   \n",
       "1   2    49         0  Travel_Frequently  Research & Development   \n",
       "2   4    37         1      Travel_Rarely  Research & Development   \n",
       "\n",
       "   distancia_casa      educacion        carrera satisfaccion_entorno  \\\n",
       "0               1  Universitaria  Life Sciences                Media   \n",
       "1               8     Secundaria  Life Sciences                 Alta   \n",
       "2               2     Secundaria          Other             Muy_Alta   \n",
       "\n",
       "  implicacion  ...  satisfaccion_companeros nivel_acciones anos_experiencia  \\\n",
       "0        Alta  ...                     Baja              0                8   \n",
       "1       Media  ...                 Muy_Alta              1               10   \n",
       "2       Media  ...                    Media              0                7   \n",
       "\n",
       "  num_formaciones_ult_ano  anos_compania  anos_desde_ult_promocion  \\\n",
       "0                       0              6                         0   \n",
       "1                       3             10                         1   \n",
       "2                       3              0                         0   \n",
       "\n",
       "  anos_con_manager_actual  salario_ano impacto_abandono scoring_abandono  \n",
       "0                       5        71916        14670,864         0,328125  \n",
       "1                       7        61560         12558,24     0,0620155039  \n",
       "2                       0        25080          4037,88     0,2926829268  \n",
       "\n",
       "[3 rows x 29 columns]"
      ]
     },
     "execution_count": 6,
     "metadata": {},
     "output_type": "execute_result"
    }
   ],
   "source": [
    "import pandas as pd\n",
    "import numpy as np\n",
    "abandono = pd.read_csv('abandono.csv')\n",
    "abandono.head(3)"
   ]
  },
  {
   "cell_type": "code",
   "execution_count": 7,
   "id": "4f208c34",
   "metadata": {},
   "outputs": [
    {
     "data": {
      "text/plain": [
       "0.31131"
      ]
     },
     "execution_count": 7,
     "metadata": {},
     "output_type": "execute_result"
    }
   ],
   "source": [
    "edad = abandono['edad']\n",
    "tiempo_empresa = abandono['anos_compania']\n",
    "\n",
    "def pearson (una, otra):\n",
    "    return np.corrcoef(una, otra)\n",
    "\n",
    "round(pearson(edad, tiempo_empresa)[1,0], 5)"
   ]
  },
  {
   "cell_type": "code",
   "execution_count": 8,
   "id": "9ad0e9fa",
   "metadata": {},
   "outputs": [
    {
     "name": "stdout",
     "output_type": "stream",
     "text": [
      "0.31131\n"
     ]
    }
   ],
   "source": [
    "edad = abandono['edad']\n",
    "tiempo_empresa = abandono['anos_compania']\n",
    "\n",
    "def pearson(edad, tiempo_empresa):\n",
    "    nn = len(edad)\n",
    "    r = 0\n",
    "    for i in range(nn):\n",
    "        r += ((1/nn) * (edad[i] - np.mean(edad)) * (tiempo_empresa[i] - np.mean(tiempo_empresa))) / (np.std(edad) * np.std(tiempo_empresa))\n",
    "    print(round(r,5))\n",
    "    \n",
    "pearson(edad, tiempo_empresa)\n"
   ]
  },
  {
   "cell_type": "markdown",
   "id": "baec30de",
   "metadata": {},
   "source": [
    "*El coeficiente es positivo, luego a mayor edad, mayor tiempo en la empresa, pero al ser relativamente bajo, \n",
    "(El coeficiente se mueve entre 0 y +/- 1), entiendo que la correlación entre las dos variables no es muy alta.  \n",
    "No es muy fiable*"
   ]
  },
  {
   "cell_type": "code",
   "execution_count": null,
   "id": "00f3586f",
   "metadata": {},
   "outputs": [],
   "source": []
  }
 ],
 "metadata": {
  "kernelspec": {
   "display_name": "Python 3 (ipykernel)",
   "language": "python",
   "name": "python3"
  },
  "language_info": {
   "codemirror_mode": {
    "name": "ipython",
    "version": 3
   },
   "file_extension": ".py",
   "mimetype": "text/x-python",
   "name": "python",
   "nbconvert_exporter": "python",
   "pygments_lexer": "ipython3",
   "version": "3.9.13"
  }
 },
 "nbformat": 4,
 "nbformat_minor": 5
}
